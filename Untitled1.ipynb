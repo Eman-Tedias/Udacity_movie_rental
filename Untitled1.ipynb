{
 "cells": [
  {
   "cell_type": "code",
   "execution_count": 1,
   "id": "be360067",
   "metadata": {},
   "outputs": [],
   "source": [
    "import pandas as pd\n",
    "import numpy as np"
   ]
  },
  {
   "cell_type": "code",
   "execution_count": 2,
   "id": "04a4941d",
   "metadata": {},
   "outputs": [],
   "source": [
    "table = pd.read_csv(r'D:\\Estudo\\Data_Science\\Projetos\\Locadora_SQL\\CSV_files\\Utilizado\\Film_info_att.csv')"
   ]
  },
  {
   "cell_type": "code",
   "execution_count": 3,
   "id": "d9cb046d",
   "metadata": {},
   "outputs": [],
   "source": [
    "category_icons = {\n",
    "    'Horror': 'https://i.ibb.co/YDK7scS/HORROR.png',\n",
    " 'Documentary': 'https://i.ibb.co/HzC8HhJ/DOCUMENTARY.png',\n",
    " 'New': 'https://i.ibb.co/y5wGX3M/NEW.png',\n",
    " 'Classics': 'https://i.ibb.co/tx8qrb5/CLASSICS.png',\n",
    " 'Games': 'https://i.ibb.co/RhDgkQV/GAMES.png',\n",
    " 'Sci-Fi': 'https://i.ibb.co/2qNzGp4/SCI-FI.png',\n",
    " 'Foreign': 'https://i.ibb.co/Ky7c46P/FOREIGN.png',\n",
    " 'Family': 'https://i.ibb.co/C066RtX/FAMILY.png',\n",
    " 'Travel': 'https://i.ibb.co/xsF6d99/TRAVEL.png',\n",
    " 'Music': 'https://i.ibb.co/5FtM6Xg/MUSIC.png',\n",
    " 'Sports': 'https://i.ibb.co/9YktFXG/SPORTS.png',\n",
    " 'Comedy': 'https://i.ibb.co/pRcS9qP/COMEDY.png',\n",
    " 'Drama': 'https://i.ibb.co/DPF6NzY/DRAMA.png',\n",
    " 'Action': 'https://i.ibb.co/YtpcQ4Q/ACTION.png',\n",
    " 'Children': 'https://i.ibb.co/nrs56cC/CHILDREN.png',\n",
    " 'Animation': 'https://i.ibb.co/hFtYt0f/ANIMATION.png'\n",
    "}"
   ]
  },
  {
   "cell_type": "code",
   "execution_count": 4,
   "id": "78c95909",
   "metadata": {},
   "outputs": [],
   "source": [
    "def get_category_icon(row):\n",
    "    name = row['name']\n",
    "    return category_icons.get(name, None)\n",
    "\n",
    "table['category_images'] = table.apply(get_category_icon, axis=1)"
   ]
  },
  {
   "cell_type": "code",
   "execution_count": 5,
   "id": "b240f7ed",
   "metadata": {},
   "outputs": [],
   "source": [
    "table.to_csv(r'D:\\Estudo\\Data_Science\\Projetos\\Locadora_SQL\\CSV_files\\Utilizado\\Film_info_att.csv', index=False)"
   ]
  },
  {
   "cell_type": "code",
   "execution_count": null,
   "id": "ce0f57f0",
   "metadata": {},
   "outputs": [],
   "source": []
  }
 ],
 "metadata": {
  "kernelspec": {
   "display_name": "Python 3 (ipykernel)",
   "language": "python",
   "name": "python3"
  },
  "language_info": {
   "codemirror_mode": {
    "name": "ipython",
    "version": 3
   },
   "file_extension": ".py",
   "mimetype": "text/x-python",
   "name": "python",
   "nbconvert_exporter": "python",
   "pygments_lexer": "ipython3",
   "version": "3.10.8"
  }
 },
 "nbformat": 4,
 "nbformat_minor": 5
}
